{
 "cells": [
  {
   "cell_type": "code",
   "execution_count": 35,
   "metadata": {
    "collapsed": true
   },
   "outputs": [],
   "source": [
    "import numpy as np"
   ]
  },
  {
   "cell_type": "code",
   "execution_count": 36,
   "metadata": {
    "collapsed": false
   },
   "outputs": [],
   "source": [
    "class CNNLayer:\n",
    "    \n",
    "    \n",
    "    def __init__(n, filter_shape, stride, activation):\n",
    "        #n is the number of filters, \n",
    "        #filter_shape is the 3-dimensional shape of each filter, (height, width, depth), \n",
    "        #activation is the type of activation to use\n",
    "        \n",
    "        #ReLU implementation: w = np.random.randn(n) * sqrt(2.0/n)\n",
    "        self.f_n = n\n",
    "        self.filter_shape = filter_shape\n",
    "        self.f_h = filter_shape[0]\n",
    "        self.f_w = filter_shape[1]\n",
    "        self.f_d = filter_shape[2]\n",
    "        self.stride = stride\n",
    "        self.activation = activation\n",
    "    \n",
    "    def forward_step(self, X, pad):\n",
    "        # X is the input data with shape (N, h, w, d)\n",
    "        # convert X,pad to im column \n",
    "        #reshape X so that it's easier to see!\n",
    "        p = pad\n",
    "        s = self.stride\n",
    "        \n",
    "        \n",
    "        return forward_step2(X, self.f_n, self.f_h, self.f_w, self.f_d, p, s)\n",
    "        \n",
    "    \n",
    "    def backward_step(self, out_delta):\n",
    "        # remove pad \n",
    "        pass\n",
    "    \n",
    "    def update(self):\n",
    "        \"\"\"\n",
    "        for w, gw, b, gb in zip(self.weights, reversed(gws), self.biases, reversed(gbs)):\n",
    "        w -= self.eta * gw\n",
    "        b -= self.eta * gb \n",
    "        \n",
    "        \"\"\"\n",
    "        pass\n",
    "    \n",
    "    def print(self):\n",
    "        pass\n",
    "    \n",
    "    def set_filters(self,filters):\n",
    "        pass\n",
    "    \n",
    "\n",
    "\n",
    "#for individual image requires image to be in d*h*w format\n",
    "def im2col(X, f_h, f_w, f_d, p, s):\n",
    "    nr = X.shape[0]\n",
    "    X_padded = np.pad(X, p, mode='constant')\n",
    "    X_padded = X_padded[p:(nr+p),:, :]\n",
    "    \n",
    "    #print(\"X_padded and reshaped so d*h*w\")\n",
    "    #print(X_padded)\n",
    "    #print(X_padded.shape)\n",
    "    \n",
    "    X_w = X_padded.shape[2]\n",
    "    X_h = X_padded.shape[1]\n",
    "    #print(\"X.shape 0:{}, 1:{}, 2:{}\".format(X_padded.shape[0], X_padded.shape[1], X_padded.shape[2]))\n",
    "    h=0\n",
    "    \n",
    "    X_reshaped = np.zeros((f_w * f_h * f_d,1))\n",
    "    print(\"X_reshaped\", X_reshaped.shape)\n",
    "    #print(X_h - f_h)\n",
    "    while (h < X_h - f_h + 1):\n",
    "        w= 0\n",
    "        #print(\"h\")\n",
    "        while (w < X_w - f_w + 1):\n",
    "            #print(\"w\")\n",
    "            X_sub = X_padded[:,h:h+f_h, w:w+f_w]\n",
    "            X_stack = np.reshape(X_sub,(-1,1))\n",
    "            X_reshaped = np.hstack((X_reshaped, X_stack))\n",
    "            w += stride\n",
    "        h += stride\n",
    "    #remove first row of zeros\n",
    "    X_reshaped = X_reshaped[:,1:]\n",
    "    #print(\"X_reshaped\", X_reshaped.shape)\n",
    "    return(X_reshaped)"
   ]
  },
  {
   "cell_type": "code",
   "execution_count": 85,
   "metadata": {
    "collapsed": true
   },
   "outputs": [],
   "source": [
    "#for single image\n",
    "#image requires image to be in d*h*w format\n",
    "def forward_step2(X, f_n, f_h, f_w, f_d, p, s):\n",
    "    X_reshaped = im2col(X, f_h, f_w, f_d, p, s)\n",
    "    C_out_h = ((X.shape[2] - f_w + 2*p)/s + 1) #assumes square filter, X.shape[2] used in case n*d*h*w is used in future\n",
    "    \n",
    "    #make filter and biases (TODO: get rid of this once filters initialized)\n",
    "    a = np.arange(f_n*f_d*f_h*f_w)\n",
    "    b = np.arange(f_n) #biases\n",
    "    \n",
    "    #reshape filter into 'F' matrix for final matrix multiplication. \n",
    "    a = a.reshape((f_n,f_d,f_h,f_w))#filters in dxhxw format to be more easily readable, \n",
    "    F = np.reshape(a, (f_n,-1))\n",
    "    \n",
    "    #matrix multiplication\n",
    "    C = np.dot(F,X_reshaped).T + b\n",
    "    C = C.T\n",
    "\n",
    "    C = C.reshape((-1,C_out_h,C_out_h))\n",
    "    return C\n",
    "    "
   ]
  },
  {
   "cell_type": "code",
   "execution_count": 86,
   "metadata": {
    "collapsed": true
   },
   "outputs": [],
   "source": [
    "def rotate_filter(a): #a.shape n*d*f*w --> return flipped filter (both up-down, and left-right)\n",
    "    a_flipped = [0,0,0]\n",
    "\n",
    "    for num in range(a.shape[0]):#for each filter\n",
    "        for chan in range(a.shape[1]): #for each channel\n",
    "            fil = a[num, chan, :,:]\n",
    "            fil_ud = np.flipud(fil)\n",
    "            fil_lr_ud = np.fliplr(fil_ud)\n",
    "\n",
    "            a_flipped = np.vstack((a_flipped, fil_lr_ud))\n",
    "            #print(fil_lr_ud)\n",
    "    #print(a_flipped)\n",
    "    print(a_flipped.shape)\n",
    "    a_flipped = a_flipped[1:, :]\n",
    "    a_flipped = a_flipped.reshape((f_n,f_d,f_h,f_w))\n",
    "    return a_flipped"
   ]
  },
  {
   "cell_type": "markdown",
   "metadata": {},
   "source": [
    "### Test forward (Shows how to reshape X into d*h*w for single and pass single image to forward)\n",
    "#### do not delete:  above code assumes single image is X"
   ]
  },
  {
   "cell_type": "code",
   "execution_count": 87,
   "metadata": {
    "collapsed": false
   },
   "outputs": [
    {
     "name": "stdout",
     "output_type": "stream",
     "text": [
      "X_reshaped (27, 1)\n"
     ]
    },
    {
     "name": "stderr",
     "output_type": "stream",
     "text": [
      "/Users/mousehouseapp/anaconda/lib/python3.5/site-packages/ipykernel/__main__.py:19: VisibleDeprecationWarning: using a non-integer number instead of an integer will result in an error in the future\n"
     ]
    },
    {
     "data": {
      "text/plain": [
       "array([[[  2016.,   3348.,   4131.,   4914.,   3408.],\n",
       "        [  4914.,   7695.,   8748.,   9801.,   6624.],\n",
       "        [  8559.,  12960.,  14013.,  15066.,   9999.],\n",
       "        [ 12204.,  18225.,  19278.,  20331.,  13374.],\n",
       "        [  8136.,  12042.,  12663.,  13284.,   8664.]],\n",
       "\n",
       "       [[  5257.,   8938.,  11179.,  13420.,   9565.],\n",
       "        [ 13420.,  21547.,  24787.,  28027.,  19504.],\n",
       "        [ 24355.,  37747.,  40987.,  44227.,  30169.],\n",
       "        [ 35290.,  53947.,  57187.,  60427.,  40834.],\n",
       "        [ 25957.,  39502.,  41581.,  43660.,  29401.]]])"
      ]
     },
     "execution_count": 87,
     "metadata": {},
     "output_type": "execute_result"
    }
   ],
   "source": [
    "#original images shape\n",
    "e = np.arange(225).reshape((3,5,5,-1))\n",
    "\n",
    "#transposed image so that (N,d,h,w), channels print as blocks\n",
    "nImages = e.transpose((0,3,1,2))\n",
    "\n",
    "f_h = 3\n",
    "f_w = 3\n",
    "f_d = 3\n",
    "f_n = 2 #2 filters of 3x3x3\n",
    "p = 1\n",
    "s = 1\n",
    "\n",
    "X = nImages[0, :,:,:]\n",
    "\n",
    "\n",
    "C = forward_step2(X, f_n, f_h, f_w, f_d, p, s)\n",
    "C #shape is f_n * receptive_field * receptive_field"
   ]
  },
  {
   "cell_type": "code",
   "execution_count": 91,
   "metadata": {
    "collapsed": false
   },
   "outputs": [],
   "source": [
    "def backward_step2(out_delta, X, f_n, f_h, f_w, f_d, p, s):\n",
    "    padding = int((X.shape[1] - f_w)/ 2)\n",
    "    out_delta_padded = np.pad(out_delta, padding, mode='constant')\n",
    "    \n",
    "    #make filter and biases (TODO: get rid of this once filters initialized)\n",
    "    a = np.arange(f_n*f_d*f_h*f_w)\n",
    "    b = np.arange(f_n) #biases\n",
    "\n",
    "    #reshape filter into 'F' matrix for final matrix multiplication. #example shape = 2 filters of 3*3*3\n",
    "    a = a.reshape((f_n,f_d,f_h,f_w))#filters in dxhxw format to be more easily readable, \n",
    "    a_rotated = rotate_filter(a)\n",
    "    \n",
    "    #apply filter to delta to get delta for previous layer\n",
    "    F = np.reshape(a_rotated, (f_n,-1))\n",
    "    \n",
    "    #matrix multiplication\n",
    "    C = np.dot(F,out_delta_padded).T\n",
    "    C = C.T\n",
    "\n",
    "    #C = C.reshape((-1,5,5))\n",
    "    return C\n"
   ]
  },
  {
   "cell_type": "code",
   "execution_count": 92,
   "metadata": {
    "collapsed": false
   },
   "outputs": [
    {
     "name": "stdout",
     "output_type": "stream",
     "text": [
      "(19, 3)\n",
      "[[ 8  7  6  5  4  3  2  1  0 17 16 15 14 13 12 11 10  9 26 25 24 23 22 21\n",
      "  20 19 18]\n",
      " [35 34 33 32 31 30 29 28 27 44 43 42 41 40 39 38 37 36 53 52 51 50 49 48\n",
      "  47 46 45]]\n"
     ]
    }
   ],
   "source": [
    "out_delta = 1\n",
    "print(backward_step2(out_delta, X, f_n, f_h, f_w, f_d, p, s))"
   ]
  },
  {
   "cell_type": "code",
   "execution_count": 90,
   "metadata": {
    "collapsed": false
   },
   "outputs": [
    {
     "data": {
      "text/plain": [
       "array([[[[ 0,  1,  2],\n",
       "         [ 3,  4,  5],\n",
       "         [ 6,  7,  8]],\n",
       "\n",
       "        [[ 9, 10, 11],\n",
       "         [12, 13, 14],\n",
       "         [15, 16, 17]],\n",
       "\n",
       "        [[18, 19, 20],\n",
       "         [21, 22, 23],\n",
       "         [24, 25, 26]]],\n",
       "\n",
       "\n",
       "       [[[27, 28, 29],\n",
       "         [30, 31, 32],\n",
       "         [33, 34, 35]],\n",
       "\n",
       "        [[36, 37, 38],\n",
       "         [39, 40, 41],\n",
       "         [42, 43, 44]],\n",
       "\n",
       "        [[45, 46, 47],\n",
       "         [48, 49, 50],\n",
       "         [51, 52, 53]]]])"
      ]
     },
     "execution_count": 90,
     "metadata": {},
     "output_type": "execute_result"
    }
   ],
   "source": [
    "#make filter and biases (TODO: get rid of this once filters initialized)\n",
    "a = np.arange(f_n*f_d*f_h*f_w)\n",
    "b = np.arange(f_n) #biases\n",
    "\n",
    "#reshape filter into 'F' matrix for final matrix multiplication. \n",
    "a = a.reshape((f_n,f_d,f_h,f_w))#filters in dxhxw format to be more easily readable, \n",
    "a #example shape = 2 filters of 3*3*3"
   ]
  },
  {
   "cell_type": "markdown",
   "metadata": {},
   "source": [
    "#### rotate filter"
   ]
  },
  {
   "cell_type": "code",
   "execution_count": 76,
   "metadata": {
    "collapsed": false
   },
   "outputs": [
    {
     "name": "stdout",
     "output_type": "stream",
     "text": [
      "(19, 3)\n"
     ]
    },
    {
     "data": {
      "text/plain": [
       "array([[[[ 8,  7,  6],\n",
       "         [ 5,  4,  3],\n",
       "         [ 2,  1,  0]],\n",
       "\n",
       "        [[17, 16, 15],\n",
       "         [14, 13, 12],\n",
       "         [11, 10,  9]],\n",
       "\n",
       "        [[26, 25, 24],\n",
       "         [23, 22, 21],\n",
       "         [20, 19, 18]]],\n",
       "\n",
       "\n",
       "       [[[35, 34, 33],\n",
       "         [32, 31, 30],\n",
       "         [29, 28, 27]],\n",
       "\n",
       "        [[44, 43, 42],\n",
       "         [41, 40, 39],\n",
       "         [38, 37, 36]],\n",
       "\n",
       "        [[53, 52, 51],\n",
       "         [50, 49, 48],\n",
       "         [47, 46, 45]]]])"
      ]
     },
     "execution_count": 76,
     "metadata": {},
     "output_type": "execute_result"
    }
   ],
   "source": [
    "#make filter and biases (TODO: get rid of this once filters initialized)\n",
    "a = np.arange(f_n*f_d*f_h*f_w)\n",
    "b = np.arange(f_n) #biases\n",
    "\n",
    "#reshape filter into 'F' matrix for final matrix multiplication. \n",
    "a = a.reshape((f_n,f_d,f_h,f_w))#filters in dxhxw format to be more easily readable, \n",
    "a #example shape = 2 filters of 3*3*3\n",
    "\n",
    "def rotate_filter(a): #a.shape n*d*f*w --> return flipped filter (both up-down, and left-right)\n",
    "    a_flipped = [0,0,0]\n",
    "\n",
    "    for num in range(a.shape[0]):#for each filter\n",
    "        for chan in range(a.shape[1]): #for each channel\n",
    "            fil = a[num, chan, :,:]\n",
    "            fil_ud = np.flipud(fil)\n",
    "            fil_lr_ud = np.fliplr(fil_ud)\n",
    "\n",
    "            a_flipped = np.vstack((a_flipped, fil_lr_ud))\n",
    "            #print(fil_lr_ud)\n",
    "    #print(a_flipped)\n",
    "    print(a_flipped.shape)\n",
    "    a_flipped = a_flipped[1:, :]\n",
    "    a_flipped = a_flipped.reshape((f_n,f_d,f_h,f_w))\n",
    "    return a_flipped"
   ]
  },
  {
   "cell_type": "code",
   "execution_count": null,
   "metadata": {
    "collapsed": true
   },
   "outputs": [],
   "source": []
  }
 ],
 "metadata": {
  "anaconda-cloud": {},
  "kernelspec": {
   "display_name": "Python [default]",
   "language": "python",
   "name": "python3"
  },
  "language_info": {
   "codemirror_mode": {
    "name": "ipython",
    "version": 3
   },
   "file_extension": ".py",
   "mimetype": "text/x-python",
   "name": "python",
   "nbconvert_exporter": "python",
   "pygments_lexer": "ipython3",
   "version": "3.5.2"
  }
 },
 "nbformat": 4,
 "nbformat_minor": 1
}
